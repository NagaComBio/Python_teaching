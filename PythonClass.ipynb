{
 "cells": [
  {
   "cell_type": "markdown",
   "metadata": {},
   "source": [
    "# **Overview of the lecture**\n",
    "- Programming paradigms\n",
    " - Imperative\n",
    " - Procedural\n",
    " - Object-oriented\n",
    " - Functional\n",
    "- Object-Oriented Programming (OOP)\n",
    "  - Introduction to class and objects\n",
    "  - Defining basic class\n",
    "  - Variables\n",
    "    - Instance and class variables\n",
    "  - Methods\n",
    "    - Regular methods\n",
    "    - Class methods\n",
    "    - Static methods\n",
    "  - 4 pillars of OOP\n",
    "    - Abstraction  \n",
    "    - Encapsulations\n",
    "    - Inheritance\n",
    "    - Polymorphism\n",
    "  - Magic or special methods \n",
    "    - `__repr__` and `__str__`\n",
    "    - Operator overloading\n",
    "---"
   ]
  },
  {
   "cell_type": "markdown",
   "metadata": {
    "toc-hr-collapsed": true
   },
   "source": [
    "# **Programming paradigms**\n",
    "\n",
    "There are several programming styles called paradigms used in programming.\n",
    "Programming languages are designed to support one or several of these paradigms.\n",
    "\n",
    "Python supports four different paradigms, that makes it a flexible language to work. \n",
    "The following is the list of paradigms python supports.\n",
    "- Imperative paradigm\n",
    "- Procedural paradigm\n",
    "- Object-oriented�paradigm\n",
    "- Functional paradigm"
   ]
  },
  {
   "cell_type": "markdown",
   "metadata": {},
   "source": [
    "### **Imperative programming paradigm**�\n",
    "�- This style of programming gives step-by-step commands while it executes. \n",
    "�- It is an easy and straight forward coding style and would be useful to create quick scripts.�\n",
    " \n",
    "�- Since it is step-by-step, the code is comparatively slower to other styles.\n",
    " \n",
    "<p><img src=\"img/imperative_paradigm.png\", alt=\"Imperative Programming Paradigm\"/></p>\n",
    "\n",
    "The following example demonstrates the imperative style.<br>\n",
    "It is simple to program that squares the integers in the input list.<br>\n",
    "The `sqr_list` changes in every iteration, so it has a state and needs a memory pointer, thus this style is harder to be parallelized. "
   ]
  },
  {
   "cell_type": "code",
   "execution_count": 3,
   "metadata": {},
   "outputs": [
    {
     "name": "stdout",
     "output_type": "stream",
     "text": [
      "[4]\n",
      "[4, 16]\n",
      "[4, 16, 25]\n",
      "[4, 16, 25, 36]\n",
      "[4, 16, 25, 36, 49]\n"
     ]
    }
   ],
   "source": [
    "int_list = [2, 4, 5, 6, 7]\n",
    "sqr_list = []\n",
    "\n",
    "for element in int_list:\n",
    "    sqr = element ** 2    \n",
    "    sqr_list.append(sqr)\n",
    "    print(sqr_list)"
   ]
  },
  {
   "cell_type": "markdown",
   "metadata": {},
   "source": [
    "### **Procedural programming paradigm**\n",
    "\n",
    "- This is a subtype of the imperative programming paradigm.\n",
    "\n",
    "- The programs are structured into functions or modules called procedures. \n",
    "- Each of these modules can be anywhere and sourced only when needed.\n",
    "- The style helps to have good program designing�and promotes code reusability.\n",
    "- The implementations might also have 'states' as the imperative style of coding and harder to parallelize.\n",
    "\n",
    "<p><img src=\"img/procedure_paradigm.png\", alt=\"Procedural Progamming Paradigm\"/></p>\n",
    "\n",
    "- Examples involving various modules and libraries available in Python\n",
    "\n",
    "In the following example, we could rewrite the squaring programming in a procedural style,"
   ]
  },
  {
   "cell_type": "code",
   "execution_count": 4,
   "metadata": {},
   "outputs": [
    {
     "name": "stdout",
     "output_type": "stream",
     "text": [
      "[4]\n",
      "[4, 16]\n",
      "[4, 16, 25]\n",
      "[4, 16, 25, 36]\n",
      "[4, 16, 25, 36, 49]\n"
     ]
    },
    {
     "data": {
      "text/plain": [
       "[4, 16, 25, 36, 49]"
      ]
     },
     "execution_count": 4,
     "metadata": {},
     "output_type": "execute_result"
    }
   ],
   "source": [
    "def square_it(x):\n",
    "    new_list = []\n",
    "    for element in x:\n",
    "        new_list.append(element ** 2)\n",
    "        print(new_list)\n",
    "    return new_list\n",
    "\n",
    "square_it(int_list)"
   ]
  },
  {
   "cell_type": "markdown",
   "metadata": {},
   "source": [
    "The function `square_it` can be in a different file or as a separate module, we could source it at the particular line of execution."
   ]
  },
  {
   "cell_type": "markdown",
   "metadata": {},
   "source": [
    "### **Object-Oriented programming paradigm**\n",
    "\n",
    "- In python, everything is an object.\n",
    "\n",
    "- The object is just units where related functions/procedure and data are grouped under a blueprint.\n",
    "- The blueprints for such objects are defined via a class.\n",
    "- Objects are created as instances of these classes.\n",
    "\n",
    "<p><img src=\"img/oop_paradigm.png\", alt=\"OOP Progamming Paradigm\"/></p>\n",
    "\n",
    "We will grow through OOP in more detail in a few minutes.\n",
    "But, here is the examples OOP style code for the square program, <br>"
   ]
  },
  {
   "cell_type": "code",
   "execution_count": 5,
   "metadata": {},
   "outputs": [
    {
     "name": "stdout",
     "output_type": "stream",
     "text": [
      "[]\n",
      "[4, 16, 25, 36, 49]\n"
     ]
    }
   ],
   "source": [
    "# Template of the object as class\n",
    "class ListManipulation:\n",
    "    def __init__(self, value):\n",
    "        self.value = value\n",
    "        self.sqr_value = []\n",
    "        \n",
    "    def square_it(self):\n",
    "        for element in self.value:\n",
    "            self.sqr_value.append(element ** 2)\n",
    "\n",
    "# Initialize the object\n",
    "int1 = ListManipulation(int_list)\n",
    "print(int1.sqr_value)\n",
    "\n",
    "# Call the square_it method\n",
    "int1.square_it()\n",
    "print(int1.sqr_value)"
   ]
  },
  {
   "cell_type": "markdown",
   "metadata": {
    "toc-hr-collapsed": true
   },
   "source": [
    "### **Functional programming paradigm**\n",
    "\n",
    "- It is a different style of programming compared to all the above styles.\n",
    "- It is similar to the evaluation of mathematical functions.\n",
    "\n",
    "- Functions (first-class objects) are passed and returned from other functions (higher-order functions) and can also be assigned to variables.\n",
    "- Functions should not change any variable (stateless), it should only compute something and return the final value(s) without any�side effects.�\n",
    "- Python is an impure functional language since it is possible to create functions with states and side effects if not careful.\n",
    "\n",
    "<p><img src=\"img/functional_paradigm.png\", alt=\"Progamming Paradigm\"/></p>\n",
    "\n",
    "Following is the example of square programming in functional programming style, <br>"
   ]
  },
  {
   "cell_type": "markdown",
   "metadata": {},
   "source": [
    "#### Map\n",
    "� - 'Map' is an example of a higher-order function, it takes a function as the first argument and list or any iterator as the second argument.�- It applies the function to every element in the list and�returns a map-type object and has to be converted into a list.\n",
    "� - `lambda` is an example of the first-class function.�"
   ]
  },
  {
   "cell_type": "code",
   "execution_count": 6,
   "metadata": {},
   "outputs": [
    {
     "data": {
      "text/plain": [
       "[4, 16, 25, 36, 49]"
      ]
     },
     "execution_count": 6,
     "metadata": {},
     "output_type": "execute_result"
    }
   ],
   "source": [
    "list(map(lambda x: x ** 2, int_list))"
   ]
  },
  {
   "cell_type": "markdown",
   "metadata": {},
   "source": [
    "`square_it` as a named function which takes in only an element as input."
   ]
  },
  {
   "cell_type": "code",
   "execution_count": 7,
   "metadata": {},
   "outputs": [
    {
     "data": {
      "text/plain": [
       "[4, 16, 25, 36, 49]"
      ]
     },
     "execution_count": 7,
     "metadata": {},
     "output_type": "execute_result"
    }
   ],
   "source": [
    "def new_square_it(x):\n",
    "    return x ** 2\n",
    "\n",
    "list(map(new_square_it, int_list))"
   ]
  },
  {
   "cell_type": "markdown",
   "metadata": {},
   "source": [
    "Like `map`, there are common first-order functions like `filter` and `reduce`. <br>\n",
    "`map` and `filter` are part of Python 3 and `reduce` is available via the `functools` module.\n",
    "\n",
    "**NOTE**:\n",
    "Examples for `filter`, `reduce` and high-order functions are available at the end of this document."
   ]
  },
  {
   "cell_type": "markdown",
   "metadata": {},
   "source": [
    "**Reference:**\n",
    "1. [Embracing the Four Python Programming Styles](https://blog.newrelic.com/engineering/python-programming-styles/)\n",
    "2. [Perceiving Python programming paradigms](https://opensource.com/article/19/10/python-programming-paradigms)\n",
    "---"
   ]
  },
  {
   "cell_type": "markdown",
   "metadata": {
    "toc-hr-collapsed": false
   },
   "source": [
    "# **Object-oriented programming**\n",
    "OOP is based on the concept of \"objects\", which can contain,\n",
    "\n",
    "1. Data, in the form of attributes (variables),\n",
    "2. Code, in the form of methods (procedues, functions).\n",
    "\n",
    "In general, the __data__ and __related functions__ are grouped together as **objects**.\n",
    "And **classes** are like the blueprints for these objects."
   ]
  },
  {
   "cell_type": "markdown",
   "metadata": {
    "toc-hr-collapsed": false
   },
   "source": [
    "**For example**\n",
    "<p><img src=\"img/pythonClass.png\", alt=\"Python Dog Class and Instances\"/></p>\n",
    "<p><img src=\"img/pythonClass_student_simple.png\", alt=\"Python Student Class and Instances\"/></p>\n"
   ]
  },
  {
   "cell_type": "markdown",
   "metadata": {},
   "source": [
    "### **Class**\n",
    "Lets define out first class"
   ]
  },
  {
   "cell_type": "code",
   "execution_count": 8,
   "metadata": {},
   "outputs": [],
   "source": [
    "class Student:\n",
    "    def full_name(self):\n",
    "        print(\"Full Name\")"
   ]
  },
  {
   "cell_type": "markdown",
   "metadata": {},
   "source": [
    "### **Objects**\n",
    "Creating our an instance,"
   ]
  },
  {
   "cell_type": "code",
   "execution_count": 9,
   "metadata": {},
   "outputs": [],
   "source": [
    "student1 = Student()"
   ]
  },
  {
   "cell_type": "code",
   "execution_count": 10,
   "metadata": {},
   "outputs": [
    {
     "data": {
      "text/plain": [
       "__main__.Student"
      ]
     },
     "execution_count": 10,
     "metadata": {},
     "output_type": "execute_result"
    }
   ],
   "source": [
    "type(student1)"
   ]
  },
  {
   "cell_type": "markdown",
   "metadata": {},
   "source": [
    "Calling the `full_name` method on the instance, should include `()`."
   ]
  },
  {
   "cell_type": "code",
   "execution_count": 11,
   "metadata": {},
   "outputs": [
    {
     "name": "stdout",
     "output_type": "stream",
     "text": [
      "Full Name\n"
     ]
    }
   ],
   "source": [
    "student1.full_name()"
   ]
  },
  {
   "cell_type": "markdown",
   "metadata": {},
   "source": [
    "---\n",
    "### **The `__init__` Method : Initialiser or Constructor Method**\n",
    "\n",
    "It is the method called to initialize the object/instance.<br>\n",
    "These are special methods which are predefined by python, and are surrounded by `__` called 'dunder'.\n",
    "\n",
    "Let us redefine the `Student` class with the constructor method and some variables."
   ]
  },
  {
   "cell_type": "code",
   "execution_count": 12,
   "metadata": {},
   "outputs": [],
   "source": [
    "class Student:\n",
    "    def __init__(self, g_name, f_name, major):\n",
    "        self.given_name = g_name\n",
    "        self.family_name = f_name\n",
    "        self.major = major\n",
    "        \n",
    "    def full_name(self):\n",
    "        print('{} {}'.format(self.given_name, self.family_name))"
   ]
  },
  {
   "cell_type": "code",
   "execution_count": 13,
   "metadata": {},
   "outputs": [],
   "source": [
    "student1 = Student('Michael', 'Grimm', 'MoBi')\n",
    "student2 = Student('Peter', 'Fischer', 'MoBi')"
   ]
  },
  {
   "cell_type": "code",
   "execution_count": 14,
   "metadata": {},
   "outputs": [
    {
     "name": "stdout",
     "output_type": "stream",
     "text": [
      "Michael Grimm\n"
     ]
    }
   ],
   "source": [
    "student1.full_name()"
   ]
  },
  {
   "cell_type": "code",
   "execution_count": 15,
   "metadata": {},
   "outputs": [
    {
     "name": "stdout",
     "output_type": "stream",
     "text": [
      "Peter Fischer\n"
     ]
    }
   ],
   "source": [
    "student2.full_name()"
   ]
  },
  {
   "cell_type": "markdown",
   "metadata": {},
   "source": [
    "---\n",
    "**Additional Notes:**<br>\n",
    "- `__init__` doesn't create the instances, it is done by another method `__new__` in the background and `__init__` just initialise it.<br>\n",
    "- `__del__` is another method, which deletes the created object. \n",
    "- `__new__`, `__init__` and `__del__` forms the **life cycle of an object**.\n",
    "- Apart from `__init__` we rarely re-define others, they are automatically created/inherited for the objects."
   ]
  },
  {
   "cell_type": "markdown",
   "metadata": {},
   "source": [
    "---\n",
    "### **What is `self?`**\n",
    "* It the variable that points to the **current instance.**\n",
    "\n",
    "* It is the first argument to all the instance methods in the class.\n",
    "* During the method call, the instances are passed to the method automatically.\n",
    "* By convention is it always referred to as `self` in python and it is the recommended name.\n",
    "* It is just a variable name, it can be of any legal variable name."
   ]
  },
  {
   "cell_type": "code",
   "execution_count": 16,
   "metadata": {},
   "outputs": [],
   "source": [
    "class Student:\n",
    "    def __init__(this, g_name, f_name, major):\n",
    "        this.given_name = g_name\n",
    "        this.family_name = f_name\n",
    "        this.major = major\n",
    "        \n",
    "    def full_name(this):\n",
    "        print('{} {}'.format(this.given_name, this.family_name))"
   ]
  },
  {
   "cell_type": "code",
   "execution_count": 17,
   "metadata": {},
   "outputs": [
    {
     "name": "stdout",
     "output_type": "stream",
     "text": [
      "Michael Grimm\n"
     ]
    }
   ],
   "source": [
    "student1 = Student('Michael', 'Grimm', 'MoBi')\n",
    "student1.full_name()"
   ]
  },
  {
   "cell_type": "markdown",
   "metadata": {},
   "source": [
    "---"
   ]
  },
  {
   "cell_type": "markdown",
   "metadata": {
    "toc-hr-collapsed": false
   },
   "source": [
    "## **Variables**"
   ]
  },
  {
   "cell_type": "markdown",
   "metadata": {},
   "source": [
    "### Instance variable \n",
    "- Variables that used to store the data specific to the instance\n",
    "\n",
    "```python\n",
    "    def __init__(self, g_name, f_name, major):\n",
    "        self.given_name = g_name\n",
    "        self.family_name = f_name\n",
    "        self.major = major\n",
    "```"
   ]
  },
  {
   "cell_type": "code",
   "execution_count": 18,
   "metadata": {},
   "outputs": [
    {
     "data": {
      "text/plain": [
       "'Michael'"
      ]
     },
     "execution_count": 18,
     "metadata": {},
     "output_type": "execute_result"
    }
   ],
   "source": [
    "student1.given_name"
   ]
  },
  {
   "cell_type": "code",
   "execution_count": 19,
   "metadata": {},
   "outputs": [
    {
     "data": {
      "text/plain": [
       "'Peter'"
      ]
     },
     "execution_count": 19,
     "metadata": {},
     "output_type": "execute_result"
    }
   ],
   "source": [
    "student2.given_name"
   ]
  },
  {
   "cell_type": "markdown",
   "metadata": {},
   "source": [
    "### Class variable\n",
    "- Variables that used to store the attribute common to all the instances belonging to a class.\n",
    "- Updating class variable will change the value for exicting instances and also for the new instances. \n",
    "\n",
    "In the example below, `major` is a class variable, since it is defined at the class level rather initialized at the instance level."
   ]
  },
  {
   "cell_type": "code",
   "execution_count": 20,
   "metadata": {},
   "outputs": [],
   "source": [
    "class Student:\n",
    "    major = \"MoBi\"   \n",
    "    \n",
    "    def __init__(self, g_name, f_name, grade):\n",
    "        self.given_name = g_name\n",
    "        self.family_name = f_name\n",
    "        self.grade = grade\n",
    "        \n",
    "    def full_name(self):\n",
    "        print('{} {}'.format(this.given_name, this.family_name))"
   ]
  },
  {
   "cell_type": "code",
   "execution_count": 21,
   "metadata": {},
   "outputs": [],
   "source": [
    "student1 = Student('Michael', 'Grimm', 1.0)\n",
    "student2 = Student('Peter', 'Fischer', 1.0)"
   ]
  },
  {
   "cell_type": "markdown",
   "metadata": {},
   "source": [
    "The class variable can be accessed via instance like this,"
   ]
  },
  {
   "cell_type": "code",
   "execution_count": 22,
   "metadata": {},
   "outputs": [
    {
     "data": {
      "text/plain": [
       "'MoBi'"
      ]
     },
     "execution_count": 22,
     "metadata": {},
     "output_type": "execute_result"
    }
   ],
   "source": [
    "student1.major"
   ]
  },
  {
   "cell_type": "code",
   "execution_count": 23,
   "metadata": {},
   "outputs": [
    {
     "data": {
      "text/plain": [
       "'MoBi'"
      ]
     },
     "execution_count": 23,
     "metadata": {},
     "output_type": "execute_result"
    }
   ],
   "source": [
    "student2.major"
   ]
  },
  {
   "cell_type": "markdown",
   "metadata": {},
   "source": [
    "And it can also be acessed via class,"
   ]
  },
  {
   "cell_type": "code",
   "execution_count": 24,
   "metadata": {},
   "outputs": [
    {
     "data": {
      "text/plain": [
       "'MoBi'"
      ]
     },
     "execution_count": 24,
     "metadata": {},
     "output_type": "execute_result"
    }
   ],
   "source": [
    "Student.major"
   ]
  },
  {
   "cell_type": "markdown",
   "metadata": {},
   "source": [
    "We can redefine the class variable via class. And all the instances created before and also the new instances will have the new definition."
   ]
  },
  {
   "cell_type": "code",
   "execution_count": 25,
   "metadata": {},
   "outputs": [],
   "source": [
    "Student.major = \"Maths\""
   ]
  },
  {
   "cell_type": "code",
   "execution_count": 26,
   "metadata": {},
   "outputs": [
    {
     "data": {
      "text/plain": [
       "'Maths'"
      ]
     },
     "execution_count": 26,
     "metadata": {},
     "output_type": "execute_result"
    }
   ],
   "source": [
    "student3 = Student('N', 'P', 1)\n",
    "student3.major"
   ]
  },
  {
   "cell_type": "code",
   "execution_count": 27,
   "metadata": {},
   "outputs": [
    {
     "data": {
      "text/plain": [
       "'Maths'"
      ]
     },
     "execution_count": 27,
     "metadata": {},
     "output_type": "execute_result"
    }
   ],
   "source": [
    "student2.major"
   ]
  },
  {
   "cell_type": "markdown",
   "metadata": {},
   "source": [
    "Redefining the class variable via one instance will not affect other instances variable - but bad practice."
   ]
  },
  {
   "cell_type": "code",
   "execution_count": 28,
   "metadata": {},
   "outputs": [
    {
     "data": {
      "text/plain": [
       "'Maths'"
      ]
     },
     "execution_count": 28,
     "metadata": {},
     "output_type": "execute_result"
    }
   ],
   "source": [
    "student2.major = \"MoBi\"\n",
    "student4 = Student('A', 'Y', 1.3)\n",
    "student4.major"
   ]
  },
  {
   "cell_type": "markdown",
   "metadata": {},
   "source": [
    "**NOTE:** <br>\n",
    "- If a variable is common for all the instances of a class and might change in the future, then the class variable is a good idea. \n",
    "- But, when only a group of instances needs the change, then it is needs to be done manually.\n",
    "- A better approach is to define a new subclasses for the subgroups. For example- Maths and MoBi students by inheriting methods and variables from `Student` class.\n",
    "---"
   ]
  },
  {
   "cell_type": "markdown",
   "metadata": {
    "toc-hr-collapsed": false
   },
   "source": [
    "## **Methods**"
   ]
  },
  {
   "cell_type": "markdown",
   "metadata": {},
   "source": [
    "### Instance method \n",
    "\n",
    "- Methods that take `self` as first argument like `full_name` are called instance methods.\n",
    "\n",
    "- They act on the attributes of the particular instances."
   ]
  },
  {
   "cell_type": "markdown",
   "metadata": {},
   "source": [
    "### Class method\n",
    "- The class methods work on the class variables/attribute belonging to the class.\n",
    "\n",
    "- The class method receives its class as the first argument like an instance method receives itself.\n",
    "- Generally `cls` is the recommended name here. \n",
    "- The `@classmethod` decorator is added before the method definition to explicitly tell it is a class method.\n",
    "- A class method can be called via both classes and instances."
   ]
  },
  {
   "cell_type": "code",
   "execution_count": 29,
   "metadata": {},
   "outputs": [],
   "source": [
    "class Student:\n",
    "    major = \"MoBi\"   \n",
    "    \n",
    "    def __init__(self, g_name, f_name, grade):\n",
    "        self.given_name = g_name\n",
    "        self.family_name = f_name\n",
    "        self.grade = grade\n",
    "        \n",
    "    def full_name(self):\n",
    "        print('{} {}'.format(this.given_name, this.family_name))\n",
    "    \n",
    "    @classmethod\n",
    "    def new_major(cls, new_major_value):\n",
    "        cls.major = new_major_value"
   ]
  },
  {
   "cell_type": "code",
   "execution_count": 30,
   "metadata": {},
   "outputs": [
    {
     "name": "stdout",
     "output_type": "stream",
     "text": [
      "MoBi\n",
      "Computer science\n"
     ]
    }
   ],
   "source": [
    "student4 = Student('A', 'Y', 1.3)\n",
    "print(student4.major)\n",
    "\n",
    "student4.new_major('Computer science')\n",
    "print(student4.major)"
   ]
  },
  {
   "cell_type": "code",
   "execution_count": 31,
   "metadata": {},
   "outputs": [
    {
     "name": "stdout",
     "output_type": "stream",
     "text": [
      "Medicine\n"
     ]
    }
   ],
   "source": [
    "Student.new_major('Medicine')\n",
    "print(Student.major)"
   ]
  },
  {
   "cell_type": "markdown",
   "metadata": {},
   "source": [
    "### Static method\n",
    "- Static methods do not take a class or instance data to perform a task.\n",
    "- They should not modify class or object/instance states.\n",
    "\n",
    "- They should be self-contained but can take arguments.\n",
    "- They are decorated with `@staticmethod`, before the methods and this stops the instances from sending itself during the call.\n",
    "- Static method are rarely used and mostly as an utility method."
   ]
  },
  {
   "cell_type": "code",
   "execution_count": 32,
   "metadata": {},
   "outputs": [],
   "source": [
    "class Student:\n",
    "    major = \"MoBi\"\n",
    "    \n",
    "    def __init__(self, g_name, f_name, grade):\n",
    "        self.given_name = g_name\n",
    "        self.family_name = f_name\n",
    "        self.grade = grade\n",
    "        \n",
    "    def full_name(self):\n",
    "        print('{} {}'.format(this.given_name, this.family_name))\n",
    "    \n",
    "    @classmethod\n",
    "    def new_major(cls, new_major_value):\n",
    "        cls.major = new_major_value\n",
    "    \n",
    "    @staticmethod\n",
    "    def grade_category():\n",
    "        print(\"Static method\")"
   ]
  },
  {
   "cell_type": "code",
   "execution_count": 33,
   "metadata": {},
   "outputs": [
    {
     "name": "stdout",
     "output_type": "stream",
     "text": [
      "Static method\n",
      "Static method\n"
     ]
    }
   ],
   "source": [
    "Student.grade_category()\n",
    "student4 = Student('A', 'Y', 1.3)\n",
    "student4.grade_category()"
   ]
  },
  {
   "cell_type": "markdown",
   "metadata": {},
   "source": [
    "**Additional Notes:**\n",
    "- `@classmethod` and `@staticmethod` are called **decorators**. \n",
    "- They are simple functions that accepts a function as an input and return a decorated function.\n",
    "- Most used decorator would be @property, which will make a method calling like an attribute calling. We will see that later.\n",
    "---"
   ]
  },
  {
   "cell_type": "markdown",
   "metadata": {},
   "source": [
    "## **Pillars or principles of OOP**"
   ]
  },
  {
   "cell_type": "markdown",
   "metadata": {},
   "source": [
    "### **Abstraction**\n",
    "- Abstraction is hiding complex information and only showing relevant features to the users.\n",
    "- The class is defined to solve a particular problem by bringing together various data and related functions.\n",
    "- The classes hide their complex internal mechanics and only provides an essential interface.\n",
    "- As the project grows with multiple classes, the limited essential interface provides efficient interactions.\n",
    "\n",
    "- **Abstraction is an implementation or design hiding**, and it happens at the logical level during the program design.\n",
    "\n",
    "*Real-world example, we don't need to know the mechanics of the car to drive it, we just need to know how to use the steering wheel and breaks to drive.*\n",
    "\n",
    "---"
   ]
  },
  {
   "cell_type": "markdown",
   "metadata": {},
   "source": [
    "### **Encapsulation**\n",
    "- Abstraction and encapsulation are related concepts.\n",
    "- Encapsulation restricts access to methods and attributes in a class to other external objects. Thus, stopping accidental modification and deletion of these details.\n",
    "- **Encapsulation is information hiding** which is achieved by marking certain methods and attributes as private or non-public.�\n",
    "- Private methods/attributes are achieved by adding `_`(single underscore) or `__`(double underscore) as a prefix to the variable name.\n",
    "\n",
    "� � - A single underscore prefix marks an attribute or method as non-public, but, it can be still accessed via instances. They are said to be semi-private.\n",
    "� � \n",
    "� � - Double underscore methods and attributes are non-public as well. And python mangles the variable name by adding class names to them during run time. And special methods are needed to access them. They are said to super-private."
   ]
  },
  {
   "cell_type": "code",
   "execution_count": 34,
   "metadata": {},
   "outputs": [],
   "source": [
    "class Student:  \n",
    "    \n",
    "    def __init__(self, g_name, f_name, grade, age):\n",
    "        self.given_name = g_name\n",
    "        self.family_name = f_name\n",
    "        self.grade = grade\n",
    "        self._age = age\n",
    "        self.__email = '{}.{}@uni_hd.de'.format(self.given_name, self.family_name)\n",
    "        \n",
    "    def full_name(self):\n",
    "        return '{} {}'.format(self.given_name, self.family_name)\n",
    "      \n",
    "    @property\n",
    "    def email(self):\n",
    "        return self.__email\n",
    "    \n",
    "    @email.setter\n",
    "    def email(self, value):\n",
    "        self.__email = value"
   ]
  },
  {
   "cell_type": "code",
   "execution_count": 35,
   "metadata": {},
   "outputs": [],
   "source": [
    "student4 = Student('A', 'Y', 1.3, 25)"
   ]
  },
  {
   "cell_type": "code",
   "execution_count": 36,
   "metadata": {},
   "outputs": [
    {
     "data": {
      "text/plain": [
       "25"
      ]
     },
     "execution_count": 36,
     "metadata": {},
     "output_type": "execute_result"
    }
   ],
   "source": [
    "student4._age"
   ]
  },
  {
   "cell_type": "code",
   "execution_count": 37,
   "metadata": {},
   "outputs": [],
   "source": [
    "#student4.__email"
   ]
  },
  {
   "cell_type": "markdown",
   "metadata": {},
   "source": [
    "Python mangles the non-public variables and adds underscore and class names to them, so it can be still accessed and modified. <br>\n",
    "But, they are not good practice and not 'pythonic' way of doing things."
   ]
  },
  {
   "cell_type": "code",
   "execution_count": 38,
   "metadata": {},
   "outputs": [
    {
     "data": {
      "text/plain": [
       "'A.Y@uni_hd.de'"
      ]
     },
     "execution_count": 38,
     "metadata": {},
     "output_type": "execute_result"
    }
   ],
   "source": [
    "student4._Student__email"
   ]
  },
  {
   "cell_type": "markdown",
   "metadata": {},
   "source": [
    "The proper way to access mangled non-public attribute is via getter function. \n",
    "And we can decorate such 'getter' functions with `@property` and it will appear as an attribute.\n",
    "```python\n",
    "@property\n",
    "def email(self):\n",
    "    return self.__email\n",
    "```"
   ]
  },
  {
   "cell_type": "code",
   "execution_count": 39,
   "metadata": {},
   "outputs": [
    {
     "data": {
      "text/plain": [
       "'A.Y@uni_hd.de'"
      ]
     },
     "execution_count": 39,
     "metadata": {},
     "output_type": "execute_result"
    }
   ],
   "source": [
    "student4.email"
   ]
  },
  {
   "cell_type": "markdown",
   "metadata": {},
   "source": [
    "And with the 'setter' method will allow user to update the values. Setter method uses the same method name as getter, and a custum decorator,\n",
    "\n",
    "```python\n",
    "@email.setter\n",
    "def email(self, value):\n",
    "    self.__email = value\n",
    "```"
   ]
  },
  {
   "cell_type": "code",
   "execution_count": 40,
   "metadata": {},
   "outputs": [
    {
     "data": {
      "text/plain": [
       "'A.Y@gmail.com'"
      ]
     },
     "execution_count": 40,
     "metadata": {},
     "output_type": "execute_result"
    }
   ],
   "source": [
    "student4.email = \"A.Y@gmail.com\"\n",
    "student4.email"
   ]
  },
  {
   "cell_type": "markdown",
   "metadata": {},
   "source": [
    "---\n",
    "### **Inheritance**\n",
    "- Inheritance is achieved by allowing new subclass to inherit the properties of existing class(es).\n",
    "\n",
    "- General attributes and methods are defined in a basic/base class and the subclasses will inherit them. In addition, subclasses can define more specific attributes and methods.\n",
    "- The generic class can be called as super class or parent class or base class.\n",
    "- Multiple inheritance is also possible with multiple super classes."
   ]
  },
  {
   "cell_type": "code",
   "execution_count": 41,
   "metadata": {},
   "outputs": [],
   "source": [
    "class MoBiStudent(Student):\n",
    "    def __init__(self, g_name, f_name, grade, age):\n",
    "        super().__init__(g_name, f_name, grade, age)\n",
    "        self.major='MoBi'\n",
    "\n",
    "class MathsStudent(Student):\n",
    "    def __init__(self, g_name, f_name, grade, age):\n",
    "        super().__init__(g_name, f_name, grade, age)\n",
    "        self.major='Mathematics'"
   ]
  },
  {
   "cell_type": "code",
   "execution_count": 42,
   "metadata": {},
   "outputs": [
    {
     "name": "stdout",
     "output_type": "stream",
     "text": [
      "A.Y@uni_hd.de\n",
      "B.X@uni_hd.de\n"
     ]
    }
   ],
   "source": [
    "mobi_1 = MoBiStudent('A', 'Y', 1.3, 22)\n",
    "maths_1 = MathsStudent('B', 'X', 1, 22)\n",
    "\n",
    "print(mobi_1.email)\n",
    "\n",
    "print(maths_1.email)"
   ]
  },
  {
   "cell_type": "markdown",
   "metadata": {},
   "source": [
    "---\n",
    "### **Polymorphism**\n",
    "- Polymorphism is the ability of the same method to behave differently depending on the object at runtime.\n",
    "\n",
    "- Polymorphism is achieved via   \n",
    "  - operator overloading,\n",
    "  \n",
    "  - method overriding and \n",
    "  - method overloading\n",
    "- Redefining a method in the inherited class with the same name as in parent class is called **method overriding**.\n",
    "- Redefining an operator (like +-%/>==) to behave differently depending on the class is called **operator overloading**.\n",
    "- **Method overloading** is achieved when the methods with same name implemented in the same class that takes different parameters and behave differently.\n",
    "    - Python does not support method overloading."
   ]
  },
  {
   "cell_type": "markdown",
   "metadata": {},
   "source": [
    "#### **Operator overloading**\n",
    "`+` operator is an example of polymorphism via operator overloading."
   ]
  },
  {
   "cell_type": "code",
   "execution_count": 43,
   "metadata": {},
   "outputs": [
    {
     "name": "stdout",
     "output_type": "stream",
     "text": [
      "11\n",
      "56\n"
     ]
    }
   ],
   "source": [
    "print(5 + 6) # int class\n",
    "print('5' + '6') # str class"
   ]
  },
  {
   "cell_type": "markdown",
   "metadata": {},
   "source": [
    "All the calls to `+` invoke an `__add__` magic method underneath and `int` and `str` classes. And these classes have own definition for these magic methods, that's the reason `+` works for these different data types and behave differently as well.\n",
    "\n",
    "The operator can be redefined to be more class-specific, we will look at more example on magic methods below."
   ]
  },
  {
   "cell_type": "markdown",
   "metadata": {},
   "source": [
    "#### **Method overriding**\n",
    "\n",
    "- Redefining a method in the inherited class with the same name as in parent class is called method overriding.\n",
    "- `MoBiStudent` subclass overrides the `full_name` method, but `MathsStudent` subclass retains the inherited method. "
   ]
  },
  {
   "cell_type": "code",
   "execution_count": 44,
   "metadata": {},
   "outputs": [],
   "source": [
    "class MoBiStudent(Student):\n",
    "    def __init__(self, g_name, f_name, grade, age):\n",
    "        super().__init__(g_name, f_name, grade, age)\n",
    "        self.major='MoBi'\n",
    "        \n",
    "    def full_name(self):\n",
    "        return ('{} {} Bsc.,({})'.format(self.given_name, self.family_name, self.major))"
   ]
  },
  {
   "cell_type": "code",
   "execution_count": 45,
   "metadata": {},
   "outputs": [
    {
     "name": "stdout",
     "output_type": "stream",
     "text": [
      "Andy York Bsc.,(MoBi)\n",
      "Ben Oliver\n"
     ]
    }
   ],
   "source": [
    "mobi_1 = MoBiStudent('Andy', 'York', 1.3, 22)\n",
    "maths_1 = MathsStudent('Ben', 'Oliver', 1, 22)\n",
    "\n",
    "print(mobi_1.full_name())\n",
    "print(maths_1.full_name())"
   ]
  },
  {
   "cell_type": "code",
   "execution_count": 46,
   "metadata": {},
   "outputs": [
    {
     "name": "stdout",
     "output_type": "stream",
     "text": [
      "Andy York Bsc.,(MoBi)\n",
      "Ben Oliver\n"
     ]
    }
   ],
   "source": [
    "for ob in (mobi_1, maths_1):\n",
    "    print(ob.full_name())"
   ]
  },
  {
   "cell_type": "markdown",
   "metadata": {},
   "source": [
    "---\n",
    "## **Magic methods**\n",
    "\n",
    "- We have already seen magic methods like `__init__`, `__new__`, `__del__` and `__add__`\n",
    "- They always come with a predefined name with two prefix and suffix underscores.\n",
    "\n",
    "- Why magic?\n",
    "� - We don't have to invoke it directly\n",
    "  \n",
    "� - These are invoked in the background when we create the object\n",
    "- Every comparison operators have magic representations.\n",
    "- We can redefine their original definition via operator overriding, but only to a certain level.\n",
    "\n",
    "� � - They have some default output types which we have to follow.\n",
    "    \n",
    "    \n",
    "- With 'operator overriding', we could make use of binary and comparison operators in our class."
   ]
  },
  {
   "cell_type": "code",
   "execution_count": 47,
   "metadata": {},
   "outputs": [
    {
     "data": {
      "text/plain": [
       "['_Student__email',\n",
       " '__class__',\n",
       " '__delattr__',\n",
       " '__dict__',\n",
       " '__dir__',\n",
       " '__doc__',\n",
       " '__eq__',\n",
       " '__format__',\n",
       " '__ge__',\n",
       " '__getattribute__',\n",
       " '__getstate__',\n",
       " '__gt__',\n",
       " '__hash__',\n",
       " '__init__',\n",
       " '__init_subclass__',\n",
       " '__le__',\n",
       " '__lt__',\n",
       " '__module__',\n",
       " '__ne__',\n",
       " '__new__',\n",
       " '__reduce__',\n",
       " '__reduce_ex__',\n",
       " '__repr__',\n",
       " '__setattr__',\n",
       " '__sizeof__',\n",
       " '__str__',\n",
       " '__subclasshook__',\n",
       " '__weakref__',\n",
       " '_age',\n",
       " 'email',\n",
       " 'family_name',\n",
       " 'full_name',\n",
       " 'given_name',\n",
       " 'grade',\n",
       " 'major']"
      ]
     },
     "execution_count": 47,
     "metadata": {},
     "output_type": "execute_result"
    }
   ],
   "source": [
    "# dir() function returns all associated attributes of an object\n",
    "dir(mobi_1)"
   ]
  },
  {
   "cell_type": "markdown",
   "metadata": {},
   "source": [
    "In Python 2 we should do this to inherit from object class,"
   ]
  },
  {
   "cell_type": "code",
   "execution_count": 48,
   "metadata": {},
   "outputs": [],
   "source": [
    "class Example(object):\n",
    "    pass"
   ]
  },
  {
   "cell_type": "markdown",
   "metadata": {},
   "source": [
    "But in Python 3 object class is inherited automatically"
   ]
  },
  {
   "cell_type": "code",
   "execution_count": 49,
   "metadata": {},
   "outputs": [],
   "source": [
    "class Example:\n",
    "    pass"
   ]
  },
  {
   "cell_type": "code",
   "execution_count": 50,
   "metadata": {},
   "outputs": [
    {
     "name": "stdout",
     "output_type": "stream",
     "text": [
      "['__class__', '__delattr__', '__dict__', '__dir__', '__doc__', '__eq__', '__format__', '__ge__', '__getattribute__', '__getstate__', '__gt__', '__hash__', '__init__', '__init_subclass__', '__le__', '__lt__', '__module__', '__ne__', '__new__', '__reduce__', '__reduce_ex__', '__repr__', '__setattr__', '__sizeof__', '__str__', '__subclasshook__', '__weakref__']\n"
     ]
    }
   ],
   "source": [
    "print(dir(Example))"
   ]
  },
  {
   "cell_type": "code",
   "execution_count": 51,
   "metadata": {},
   "outputs": [
    {
     "name": "stdout",
     "output_type": "stream",
     "text": [
      "['__class__', '__delattr__', '__dir__', '__doc__', '__eq__', '__format__', '__ge__', '__getattribute__', '__getstate__', '__gt__', '__hash__', '__init__', '__init_subclass__', '__le__', '__lt__', '__ne__', '__new__', '__reduce__', '__reduce_ex__', '__repr__', '__setattr__', '__sizeof__', '__str__', '__subclasshook__']\n"
     ]
    }
   ],
   "source": [
    "print(dir(object))"
   ]
  },
  {
   "cell_type": "markdown",
   "metadata": {},
   "source": [
    "### Redefining magic methods"
   ]
  },
  {
   "cell_type": "code",
   "execution_count": 52,
   "metadata": {},
   "outputs": [
    {
     "data": {
      "text/plain": [
       "<__main__.MoBiStudent at 0x10c8b0190>"
      ]
     },
     "execution_count": 52,
     "metadata": {},
     "output_type": "execute_result"
    }
   ],
   "source": [
    "mobi_1 # calls the magic method `__repr__`"
   ]
  },
  {
   "cell_type": "code",
   "execution_count": 53,
   "metadata": {},
   "outputs": [
    {
     "name": "stdout",
     "output_type": "stream",
     "text": [
      "<__main__.MoBiStudent object at 0x10c8b0190>\n"
     ]
    }
   ],
   "source": [
    "print(mobi_1) # calls the magic method `__str__`, if not available calls the `__repr__`"
   ]
  },
  {
   "cell_type": "markdown",
   "metadata": {},
   "source": [
    "- `__repr__`, is the magic method that should tell how the class was created.\n",
    "- `__str__`, is the magic method that should give a short description of the object.\n",
    "\n",
    "Redefining the magic methods in the `MathsStudent` subclass,"
   ]
  },
  {
   "cell_type": "code",
   "execution_count": 54,
   "metadata": {},
   "outputs": [],
   "source": [
    "class MathsStudent(Student):\n",
    "    def __init__(self, g_name, f_name, grade, age):\n",
    "        super().__init__(g_name, f_name, grade, age)\n",
    "        self.major='Mathematics'\n",
    "        \n",
    "    def __repr__(self):\n",
    "        return 'MathsStudent(\\'{}\\', \\'{}\\', {}, {})'.format(self.given_name, self.family_name, self.grade, self._age)\n",
    "    \n",
    "    def __str__(self):\n",
    "        return 'I am {} {}, studying {} in the Heidelberg University.'.format(self.given_name, self.family_name, self.major)"
   ]
  },
  {
   "cell_type": "code",
   "execution_count": 55,
   "metadata": {},
   "outputs": [
    {
     "name": "stdout",
     "output_type": "stream",
     "text": [
      "<__main__.MoBiStudent object at 0x10c8d0190>\n",
      "I am Ben Oliver, studying Mathematics in the Heidelberg University.\n"
     ]
    }
   ],
   "source": [
    "mobi_1 = MoBiStudent('Andy', 'York', 1.3, 22)\n",
    "maths_1 = MathsStudent('Ben', 'Oliver', 1, 22)\n",
    "\n",
    "print(mobi_1)\n",
    "print(maths_1)"
   ]
  },
  {
   "cell_type": "code",
   "execution_count": 56,
   "metadata": {},
   "outputs": [
    {
     "data": {
      "text/plain": [
       "<__main__.MoBiStudent at 0x10c8d0190>"
      ]
     },
     "execution_count": 56,
     "metadata": {},
     "output_type": "execute_result"
    }
   ],
   "source": [
    "mobi_1"
   ]
  },
  {
   "cell_type": "code",
   "execution_count": 57,
   "metadata": {},
   "outputs": [
    {
     "data": {
      "text/plain": [
       "MathsStudent('Ben', 'Oliver', 1, 22)"
      ]
     },
     "execution_count": 57,
     "metadata": {},
     "output_type": "execute_result"
    }
   ],
   "source": [
    "maths_1"
   ]
  },
  {
   "cell_type": "markdown",
   "metadata": {},
   "source": [
    "#### Redefining `+`(`__add__`) method"
   ]
  },
  {
   "cell_type": "code",
   "execution_count": 58,
   "metadata": {},
   "outputs": [],
   "source": [
    "class MoBiStudent(Student):\n",
    "    def __init__(self, g_name, f_name, grade, age):\n",
    "        super().__init__(g_name, f_name, grade, age)\n",
    "        self.major='MoBi'\n",
    "        \n",
    "    def full_name(self):\n",
    "        return ('{} {} Bsc.,({})'.format(self.given_name, self.family_name, self.major))\n",
    "    \n",
    "    def __add__(self, other):\n",
    "        return self.grade + other.grade"
   ]
  },
  {
   "cell_type": "code",
   "execution_count": 59,
   "metadata": {},
   "outputs": [
    {
     "data": {
      "text/plain": [
       "2.3"
      ]
     },
     "execution_count": 59,
     "metadata": {},
     "output_type": "execute_result"
    }
   ],
   "source": [
    "mobi_1 = MoBiStudent('Andy', 'York', 1.3, 22)\n",
    "mobi_2 = MoBiStudent('Mandy', 'Bork', 1, 22)\n",
    "\n",
    "mobi_1 + mobi_2"
   ]
  },
  {
   "cell_type": "markdown",
   "metadata": {},
   "source": [
    "**Magic comparision operators**\n",
    "\n",
    "|Magic methods|Operator\n",
    "|:--|---\n",
    "|`__add__(self, other)`|+\n",
    "|`__sub__(self, other)`|-\n",
    "|`__mul__(self, other)`|*\n",
    "|`__floordiv__(self, other)`| //\n",
    "|`__div__(self, other)`| /\n",
    "|`__mod__(self, other)`| %\n",
    "|`__pow__(self, other)`| **\n",
    "|`__lt__(self, other)`| <\n",
    "|`__le__(self, other)`| <=\n",
    "|`__eq__(self, other)`| ==\n",
    "|`__ne__(self, other)`|!=\n",
    "|`__ge__(self, other)`|>="
   ]
  },
  {
   "cell_type": "markdown",
   "metadata": {},
   "source": [
    "------------------\n",
    "### **Additional functional programming examples:**\n",
    "#### Higher-order function\n",
    "- For fun, we could create our own higher-order functions\n",
    "- `yield` passes the program and returns the current state, it will remember enough to continue further.\n",
    "- When the iterator is very long, rather than returning the entire list, `yield` will be efficient."
   ]
  },
  {
   "cell_type": "code",
   "execution_count": 60,
   "metadata": {},
   "outputs": [
    {
     "data": {
      "text/plain": [
       "[4, 16, 25, 36, 49]"
      ]
     },
     "execution_count": 60,
     "metadata": {},
     "output_type": "execute_result"
    }
   ],
   "source": [
    "def my_map(func, iterator):\n",
    "    for ele in iterator:\n",
    "        yield func(ele)\n",
    "\n",
    "list(my_map(new_square_it, int_list))"
   ]
  },
  {
   "cell_type": "markdown",
   "metadata": {},
   "source": [
    "#### Side effect example"
   ]
  },
  {
   "cell_type": "code",
   "execution_count": 61,
   "metadata": {},
   "outputs": [
    {
     "name": "stdout",
     "output_type": "stream",
     "text": [
      "5\n",
      "17\n",
      "7\n"
     ]
    }
   ],
   "source": [
    "a = 5\n",
    "def sum1(x):\n",
    "    global a\n",
    "    a = 7\n",
    "    return x + a\n",
    "\n",
    "print(a)\n",
    "print(sum1(10))\n",
    "print(a)"
   ]
  },
  {
   "cell_type": "markdown",
   "metadata": {},
   "source": [
    "#### Filter\n",
    "- Elements in the iterator are filtered based on the conditions.\n",
    "- Only the elements that passed are returned."
   ]
  },
  {
   "cell_type": "code",
   "execution_count": 62,
   "metadata": {},
   "outputs": [
    {
     "data": {
      "text/plain": [
       "[4, 5, 6, 7]"
      ]
     },
     "execution_count": 62,
     "metadata": {},
     "output_type": "execute_result"
    }
   ],
   "source": [
    "list(filter(lambda x: x > 3, int_list))"
   ]
  },
  {
   "cell_type": "markdown",
   "metadata": {},
   "source": [
    "#### Reduce\n",
    "- Summarizes the list into one value by recursively applying the function."
   ]
  },
  {
   "cell_type": "code",
   "execution_count": 63,
   "metadata": {},
   "outputs": [
    {
     "data": {
      "text/plain": [
       "24"
      ]
     },
     "execution_count": 63,
     "metadata": {},
     "output_type": "execute_result"
    }
   ],
   "source": [
    "import functools\n",
    "# ((((2+4)+5)+6)+7)\n",
    "functools.reduce(lambda x, y: x + y, int_list)"
   ]
  },
  {
   "cell_type": "code",
   "execution_count": 64,
   "metadata": {},
   "outputs": [
    {
     "data": {
      "text/html": [
       "<style>\n",
       "table {float:left}\n",
       "</style>\n"
      ],
      "text/plain": [
       "<IPython.core.display.HTML object>"
      ]
     },
     "metadata": {},
     "output_type": "display_data"
    }
   ],
   "source": [
    "%%html\n",
    "<style>\n",
    "table {float:left}\n",
    "</style>"
   ]
  }
 ],
 "metadata": {
  "kernelspec": {
   "display_name": "firstEnv",
   "language": "python",
   "name": "firstenv"
  },
  "language_info": {
   "codemirror_mode": {
    "name": "ipython",
    "version": 3
   },
   "file_extension": ".py",
   "mimetype": "text/x-python",
   "name": "python",
   "nbconvert_exporter": "python",
   "pygments_lexer": "ipython3",
   "version": "3.11.3"
  }
 },
 "nbformat": 4,
 "nbformat_minor": 4
}
